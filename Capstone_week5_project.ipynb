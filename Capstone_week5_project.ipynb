{
 "cells": [
  {
   "cell_type": "markdown",
   "metadata": {},
   "source": [
    "# Capstone Project of Applied Data Science (Week 5): \n",
    "# The Battle of Neighbourhoods"
   ]
  },
  {
   "cell_type": "markdown",
   "metadata": {},
   "source": [
    "## 1. Introduction/Business Problem\n",
    "\n",
    "My friend Jimmy is living in a neighborhood in The Woodland, Texas. He likes the living environment of the neighborhood, mainly because of all the great amenities, such as beautiful parks, theatres, schools and so on. \n",
    "\n",
    "He recently received an offer from a company in Austin, Texas. Therefore, he will move to Austin soon. He would like to find a neighborhood there similar to his current neighborhood in The Woodland, and ask me for help. After discussing with Jimmy, I understand that he prefers a neighborhood having the same types of amenities as his current neighborhood, and that he hopes the new house is not too far from his new company."
   ]
  },
  {
   "cell_type": "markdown",
   "metadata": {},
   "source": [
    "## 2. Data Sources\n",
    "To help my friend Jimmy find the neighborhood, I will need the following data (data source):\n",
    "\n",
    "| # | Data | Data Source |\n",
    "| --- | --- | --- |\n",
    "| 1 | Address of his current house | Jimmy|\n",
    "| 2 | Latitude and longitude of his current house | Foursquare API|\n",
    "| 3 | The borough and neighborhood of his current house | Foursquare API|\n",
    "| 4 | Amenities in his current neighborhood, and types of these amenities | Foursquare API|\n",
    "| 5 | Address of his new company | Jimmy|\n",
    "| 6 | Latitude and longitude of his new company | Foursquare API|\n",
    "| 7 | Boroughs near his new company | Foursquare API|\n",
    "| 8 | Neighborhoods in the nearby boroughs | Foursquare API|\n",
    "| 9 | Amenities in the neighborhoods in the nearby broughs, and types of these amenities | Foursquare API|\n"
   ]
  },
  {
   "cell_type": "code",
   "execution_count": null,
   "metadata": {},
   "outputs": [],
   "source": []
  }
 ],
 "metadata": {
  "kernelspec": {
   "display_name": "Python 3",
   "language": "python",
   "name": "python3"
  },
  "language_info": {
   "codemirror_mode": {
    "name": "ipython",
    "version": 3
   },
   "file_extension": ".py",
   "mimetype": "text/x-python",
   "name": "python",
   "nbconvert_exporter": "python",
   "pygments_lexer": "ipython3",
   "version": "3.7.3"
  }
 },
 "nbformat": 4,
 "nbformat_minor": 2
}
